{
 "cells": [
  {
   "cell_type": "code",
   "execution_count": 1,
   "id": "c451fc62-c722-410f-89e5-cbf887536d32",
   "metadata": {},
   "outputs": [],
   "source": [
    "import pandas as pd\n",
    "import numpy as np\n",
    "import matplotlib.pyplot as plt\n",
    "import os\n",
    "import re"
   ]
  },
  {
   "cell_type": "code",
   "execution_count": 2,
   "id": "355698df-3e5c-4bec-acb3-633907f2a94b",
   "metadata": {},
   "outputs": [],
   "source": [
    "os.environ['CUDA_VISIBLE_DEVICES'] = '1'"
   ]
  },
  {
   "cell_type": "code",
   "execution_count": 3,
   "id": "34d7b211-51a8-4cca-bdea-735f06fa856d",
   "metadata": {},
   "outputs": [
    {
     "data": {
      "text/plain": [
       "'1'"
      ]
     },
     "execution_count": 3,
     "metadata": {},
     "output_type": "execute_result"
    }
   ],
   "source": [
    "os.environ.get('CUDA_VISIBLE_DEVICES',None)"
   ]
  },
  {
   "cell_type": "code",
   "execution_count": 4,
   "id": "de73987f-e30f-481b-86a8-78458eb84ac0",
   "metadata": {},
   "outputs": [],
   "source": [
    "from tensorflow.keras.preprocessing import sequence\n",
    "from tensorflow.keras.preprocessing.text import Tokenizer\n",
    "from tensorflow.keras.utils import pad_sequences, to_categorical\n",
    "from tensorflow.keras.models import Sequential\n",
    "from tensorflow.keras.layers import Dense, Embedding, LSTM, Input"
   ]
  },
  {
   "cell_type": "code",
   "execution_count": 5,
   "id": "5de6a104-99ad-46ec-abe3-1013c98edf4c",
   "metadata": {},
   "outputs": [],
   "source": [
    "from tensorflow.keras import Model"
   ]
  },
  {
   "cell_type": "code",
   "execution_count": 6,
   "id": "ee9b5277-140b-4599-a90f-73d5c90fc599",
   "metadata": {},
   "outputs": [],
   "source": [
    "from sklearn.preprocessing import LabelEncoder\n",
    "encoder = LabelEncoder()"
   ]
  },
  {
   "cell_type": "code",
   "execution_count": 7,
   "id": "a825b4f6-2781-4bae-b53b-7f9a6e04355c",
   "metadata": {},
   "outputs": [],
   "source": [
    "df_train = pd.read_csv('train.csv')\n",
    "df_test = pd.read_csv('test.csv')"
   ]
  },
  {
   "cell_type": "code",
   "execution_count": 8,
   "id": "5055707d-3d6d-4605-af19-4ef7eb4820b7",
   "metadata": {},
   "outputs": [],
   "source": [
    "regex = re.compile('[a-zA-Z ]')\n",
    "clean_text = lambda text: re.sub('[^a-zA-Z ]', '' ,text)\n",
    "joined_text = lambda text : ' '.join(text)"
   ]
  },
  {
   "cell_type": "code",
   "execution_count": 9,
   "id": "6a46983f-f6ec-488a-a0df-8e3c270a4166",
   "metadata": {},
   "outputs": [
    {
     "data": {
      "text/html": [
       "<div>\n",
       "<style scoped>\n",
       "    .dataframe tbody tr th:only-of-type {\n",
       "        vertical-align: middle;\n",
       "    }\n",
       "\n",
       "    .dataframe tbody tr th {\n",
       "        vertical-align: top;\n",
       "    }\n",
       "\n",
       "    .dataframe thead th {\n",
       "        text-align: right;\n",
       "    }\n",
       "</style>\n",
       "<table border=\"1\" class=\"dataframe\">\n",
       "  <thead>\n",
       "    <tr style=\"text-align: right;\">\n",
       "      <th></th>\n",
       "      <th>prompt</th>\n",
       "      <th>A</th>\n",
       "      <th>B</th>\n",
       "      <th>C</th>\n",
       "      <th>D</th>\n",
       "      <th>E</th>\n",
       "      <th>answer</th>\n",
       "    </tr>\n",
       "  </thead>\n",
       "  <tbody>\n",
       "    <tr>\n",
       "      <th>0</th>\n",
       "      <td>Which of the following statements accurately d...</td>\n",
       "      <td>MOND is a theory that reduces the observed mis...</td>\n",
       "      <td>MOND is a theory that increases the discrepanc...</td>\n",
       "      <td>MOND is a theory that explains the missing bar...</td>\n",
       "      <td>MOND is a theory that reduces the discrepancy ...</td>\n",
       "      <td>MOND is a theory that eliminates the observed ...</td>\n",
       "      <td>D</td>\n",
       "    </tr>\n",
       "  </tbody>\n",
       "</table>\n",
       "</div>"
      ],
      "text/plain": [
       "                                              prompt  \\\n",
       "0  Which of the following statements accurately d...   \n",
       "\n",
       "                                                   A  \\\n",
       "0  MOND is a theory that reduces the observed mis...   \n",
       "\n",
       "                                                   B  \\\n",
       "0  MOND is a theory that increases the discrepanc...   \n",
       "\n",
       "                                                   C  \\\n",
       "0  MOND is a theory that explains the missing bar...   \n",
       "\n",
       "                                                   D  \\\n",
       "0  MOND is a theory that reduces the discrepancy ...   \n",
       "\n",
       "                                                   E answer  \n",
       "0  MOND is a theory that eliminates the observed ...      D  "
      ]
     },
     "execution_count": 9,
     "metadata": {},
     "output_type": "execute_result"
    }
   ],
   "source": [
    "df_train = df_train.drop(columns='id')\n",
    "df_train.head(1)"
   ]
  },
  {
   "cell_type": "code",
   "execution_count": 10,
   "id": "41122992-973f-4a3f-a5da-7fd9ebcdb5aa",
   "metadata": {},
   "outputs": [],
   "source": [
    "features = df_train.iloc[:,:-1]\n",
    "label =  df_train['answer']"
   ]
  },
  {
   "cell_type": "code",
   "execution_count": 11,
   "id": "76e652ff-fd68-4e33-a937-9aba4aa9ee73",
   "metadata": {},
   "outputs": [],
   "source": [
    "encoded_label = encoder.fit_transform(label)"
   ]
  },
  {
   "cell_type": "code",
   "execution_count": 12,
   "id": "632f3b8f-3682-4ab2-b726-925007fcce98",
   "metadata": {},
   "outputs": [],
   "source": [
    "y_tarin = to_categorical(encoded_label,num_classes=5)"
   ]
  },
  {
   "cell_type": "code",
   "execution_count": 13,
   "id": "6831f22c-3ec3-447b-b439-e15214ea6096",
   "metadata": {},
   "outputs": [],
   "source": [
    "cleaned_features = features.applymap(clean_text)"
   ]
  },
  {
   "cell_type": "code",
   "execution_count": 14,
   "id": "0c3057d0-4a24-4d20-83de-5e9ab1fc75c0",
   "metadata": {},
   "outputs": [],
   "source": [
    "combined_features = cleaned_features.prompt+cleaned_features.A+cleaned_features.B+cleaned_features.C+cleaned_features.D+cleaned_features.E"
   ]
  },
  {
   "cell_type": "code",
   "execution_count": 15,
   "id": "053e4752-58c5-4243-9cb3-4a4eb59e4a00",
   "metadata": {},
   "outputs": [
    {
     "data": {
      "text/plain": [
       "200"
      ]
     },
     "execution_count": 15,
     "metadata": {},
     "output_type": "execute_result"
    }
   ],
   "source": [
    "\n",
    "len(combined_features)"
   ]
  },
  {
   "cell_type": "code",
   "execution_count": 16,
   "id": "c6c9bca8-3283-4479-b495-19e24af86626",
   "metadata": {},
   "outputs": [
    {
     "data": {
      "text/plain": [
       "2394"
      ]
     },
     "execution_count": 16,
     "metadata": {},
     "output_type": "execute_result"
    }
   ],
   "source": [
    "max_len = max(len(i) for i in combined_features)\n",
    "max_len"
   ]
  },
  {
   "cell_type": "code",
   "execution_count": 17,
   "id": "784027b7-65ca-467d-bc53-7949c7754a1e",
   "metadata": {},
   "outputs": [],
   "source": [
    "max_vocab = 10000"
   ]
  },
  {
   "cell_type": "code",
   "execution_count": 18,
   "id": "72212c43-382a-4121-bbf3-b2dd7ba7838c",
   "metadata": {},
   "outputs": [],
   "source": [
    "tokenizer = Tokenizer(num_words=max_vocab)\n",
    "tokenizer.fit_on_texts(combined_features)\n",
    "sequences = tokenizer.texts_to_sequences(combined_features)\n",
    "padded_sequences = pad_sequences(sequences,maxlen =max_len,padding='post')"
   ]
  },
  {
   "cell_type": "code",
   "execution_count": 19,
   "id": "26be34a6-fd84-42a3-a252-0e55583a27fd",
   "metadata": {},
   "outputs": [],
   "source": [
    "model = Sequential()"
   ]
  },
  {
   "cell_type": "code",
   "execution_count": 20,
   "id": "3c28fa21-2e2e-4b38-946a-541e9698202b",
   "metadata": {},
   "outputs": [],
   "source": [
    "model.add(Embedding(input_dim=max_vocab,output_dim=20,input_length=max_len))\n",
    "model.add(LSTM(25,activation='tanh'))\n",
    "model.add(Dense(5,activation='softmax'))"
   ]
  },
  {
   "cell_type": "code",
   "execution_count": 21,
   "id": "b663430d-3fda-43a4-8d3d-38d385e065ef",
   "metadata": {},
   "outputs": [],
   "source": [
    "model.compile(optimizer='adam',loss='categorical_crossentropy',metrics=['accuracy'])"
   ]
  },
  {
   "cell_type": "code",
   "execution_count": 22,
   "id": "8c3f6e1d-c872-422c-b2ad-bcfc67f5e261",
   "metadata": {},
   "outputs": [
    {
     "name": "stdout",
     "output_type": "stream",
     "text": [
      "Epoch 1/25\n",
      "5/5 [==============================] - 3s 506ms/step - loss: 1.6116 - accuracy: 0.1750 - val_loss: 1.6089 - val_accuracy: 0.3000\n",
      "Epoch 2/25\n",
      "5/5 [==============================] - 2s 421ms/step - loss: 1.6091 - accuracy: 0.2250 - val_loss: 1.6051 - val_accuracy: 0.3000\n",
      "Epoch 3/25\n",
      "5/5 [==============================] - 2s 424ms/step - loss: 1.6085 - accuracy: 0.2250 - val_loss: 1.6014 - val_accuracy: 0.3000\n",
      "Epoch 4/25\n",
      "5/5 [==============================] - 2s 430ms/step - loss: 1.6071 - accuracy: 0.2250 - val_loss: 1.5989 - val_accuracy: 0.3000\n",
      "Epoch 5/25\n",
      "5/5 [==============================] - 2s 424ms/step - loss: 1.6065 - accuracy: 0.2250 - val_loss: 1.5962 - val_accuracy: 0.3000\n",
      "Epoch 6/25\n",
      "5/5 [==============================] - 2s 422ms/step - loss: 1.6058 - accuracy: 0.2250 - val_loss: 1.5942 - val_accuracy: 0.3000\n",
      "Epoch 7/25\n",
      "5/5 [==============================] - 2s 422ms/step - loss: 1.6056 - accuracy: 0.2250 - val_loss: 1.5924 - val_accuracy: 0.3000\n",
      "Epoch 8/25\n",
      "5/5 [==============================] - 2s 417ms/step - loss: 1.6052 - accuracy: 0.2250 - val_loss: 1.5910 - val_accuracy: 0.3000\n",
      "Epoch 9/25\n",
      "5/5 [==============================] - 2s 423ms/step - loss: 1.6056 - accuracy: 0.2250 - val_loss: 1.5892 - val_accuracy: 0.3000\n",
      "Epoch 10/25\n",
      "5/5 [==============================] - 2s 424ms/step - loss: 1.6054 - accuracy: 0.2250 - val_loss: 1.5890 - val_accuracy: 0.3000\n",
      "Epoch 11/25\n",
      "5/5 [==============================] - 2s 421ms/step - loss: 1.6052 - accuracy: 0.2250 - val_loss: 1.5878 - val_accuracy: 0.3000\n",
      "Epoch 12/25\n",
      "5/5 [==============================] - 2s 427ms/step - loss: 1.6052 - accuracy: 0.2250 - val_loss: 1.5872 - val_accuracy: 0.3000\n",
      "Epoch 13/25\n",
      "5/5 [==============================] - 2s 438ms/step - loss: 1.6052 - accuracy: 0.2250 - val_loss: 1.5871 - val_accuracy: 0.3000\n",
      "Epoch 14/25\n",
      "5/5 [==============================] - 2s 422ms/step - loss: 1.6054 - accuracy: 0.2250 - val_loss: 1.5864 - val_accuracy: 0.3000\n",
      "Epoch 15/25\n",
      "5/5 [==============================] - 2s 422ms/step - loss: 1.6060 - accuracy: 0.2250 - val_loss: 1.5854 - val_accuracy: 0.3000\n",
      "Epoch 16/25\n",
      "5/5 [==============================] - 2s 422ms/step - loss: 1.6052 - accuracy: 0.2250 - val_loss: 1.5870 - val_accuracy: 0.3000\n",
      "Epoch 17/25\n",
      "5/5 [==============================] - 2s 425ms/step - loss: 1.6054 - accuracy: 0.2250 - val_loss: 1.5884 - val_accuracy: 0.3000\n",
      "Epoch 18/25\n",
      "5/5 [==============================] - 2s 423ms/step - loss: 1.6053 - accuracy: 0.2250 - val_loss: 1.5883 - val_accuracy: 0.3000\n",
      "Epoch 19/25\n",
      "5/5 [==============================] - 2s 422ms/step - loss: 1.6052 - accuracy: 0.2250 - val_loss: 1.5880 - val_accuracy: 0.3000\n",
      "Epoch 20/25\n",
      "5/5 [==============================] - 2s 421ms/step - loss: 1.6052 - accuracy: 0.2250 - val_loss: 1.5881 - val_accuracy: 0.3000\n",
      "Epoch 21/25\n",
      "5/5 [==============================] - 2s 442ms/step - loss: 1.6052 - accuracy: 0.2250 - val_loss: 1.5888 - val_accuracy: 0.3000\n",
      "Epoch 22/25\n",
      "5/5 [==============================] - 2s 456ms/step - loss: 1.6052 - accuracy: 0.2250 - val_loss: 1.5887 - val_accuracy: 0.3000\n",
      "Epoch 23/25\n",
      "5/5 [==============================] - 2s 426ms/step - loss: 1.6052 - accuracy: 0.2250 - val_loss: 1.5884 - val_accuracy: 0.3000\n",
      "Epoch 24/25\n",
      "5/5 [==============================] - 2s 451ms/step - loss: 1.6052 - accuracy: 0.2250 - val_loss: 1.5889 - val_accuracy: 0.3000\n",
      "Epoch 25/25\n",
      "5/5 [==============================] - 2s 425ms/step - loss: 1.6051 - accuracy: 0.2250 - val_loss: 1.5887 - val_accuracy: 0.3000\n"
     ]
    },
    {
     "data": {
      "text/plain": [
       "<keras.callbacks.History at 0x1991444f610>"
      ]
     },
     "execution_count": 22,
     "metadata": {},
     "output_type": "execute_result"
    }
   ],
   "source": [
    "model.fit(padded_sequences,y_tarin,validation_split=0.2,epochs=25)"
   ]
  },
  {
   "cell_type": "code",
   "execution_count": null,
   "id": "5e7520ed-c250-4bdd-b5f4-a71b7dd28cb9",
   "metadata": {},
   "outputs": [],
   "source": []
  }
 ],
 "metadata": {
  "kernelspec": {
   "display_name": "Python 3 (ipykernel)",
   "language": "python",
   "name": "python3"
  },
  "language_info": {
   "codemirror_mode": {
    "name": "ipython",
    "version": 3
   },
   "file_extension": ".py",
   "mimetype": "text/x-python",
   "name": "python",
   "nbconvert_exporter": "python",
   "pygments_lexer": "ipython3",
   "version": "3.10.0"
  }
 },
 "nbformat": 4,
 "nbformat_minor": 5
}
